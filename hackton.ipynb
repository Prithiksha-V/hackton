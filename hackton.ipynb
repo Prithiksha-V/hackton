{
  "nbformat": 4,
  "nbformat_minor": 0,
  "metadata": {
    "colab": {
      "provenance": [],
      "authorship_tag": "ABX9TyMJZI+q5qc1J71c61t8vEG6",
      "include_colab_link": true
    },
    "kernelspec": {
      "name": "python3",
      "display_name": "Python 3"
    },
    "language_info": {
      "name": "python"
    }
  },
  "cells": [
    {
      "cell_type": "markdown",
      "metadata": {
        "id": "view-in-github",
        "colab_type": "text"
      },
      "source": [
        "<a href=\"https://colab.research.google.com/github/Prithiksha-V/hackton/blob/main/hackton.ipynb\" target=\"_parent\"><img src=\"https://colab.research.google.com/assets/colab-badge.svg\" alt=\"Open In Colab\"/></a>"
      ]
    },
    {
      "cell_type": "code",
      "execution_count": 1,
      "metadata": {
        "colab": {
          "base_uri": "https://localhost:8080/"
        },
        "id": "-uSTq8NEoEC6",
        "outputId": "edfd8366-3546-4aac-d8e5-0b6d985e8c84"
      },
      "outputs": [
        {
          "output_type": "stream",
          "name": "stdout",
          "text": [
            "Movies similar to 'Inception': ['Interstellar', 'Avatar', 'Guardians of the Galaxy', 'Blade Runner', 'Star Wars: A New Hope']\n"
          ]
        }
      ],
      "source": [
        "import pandas as pd\n",
        "from sklearn.feature_extraction.text import TfidfVectorizer\n",
        "from sklearn.metrics.pairwise import cosine_similarity\n",
        "\n",
        "# Load the dataset (ensure movies.csv exists)\n",
        "movies = pd.read_csv('movies.csv')\n",
        "movies = movies[['title', 'genre']]  # Selecting only title and genres columns\n",
        "\n",
        "# Preprocess genres by replacing \"|\" with spaces\n",
        "movies['genre'] = movies['genre'].str.replace('|', ' ')\n",
        "\n",
        "# Convert genres into numerical features using TF-IDF\n",
        "vectorizer = TfidfVectorizer(stop_words='english')\n",
        "genre_matrix = vectorizer.fit_transform(movies['genre'])\n",
        "\n",
        "# Compute similarity between movies\n",
        "similarity_matrix = cosine_similarity(genre_matrix)\n",
        "\n",
        "# Function to recommend movies\n",
        "def recommend_movie(movie_title, movies, similarity_matrix):\n",
        "    if movie_title not in movies['title'].values:\n",
        "        return \"Movie not found in dataset.\"\n",
        "\n",
        "    idx = movies.index[movies['title'] == movie_title][0]\n",
        "    similar_movies = list(enumerate(similarity_matrix[idx]))\n",
        "    sorted_movies = sorted(similar_movies, key=lambda x: x[1], reverse=True)[1:6]  # Get top 5 recommendations\n",
        "\n",
        "    recommendations = [movies.iloc[i[0]]['title'] for i in sorted_movies]\n",
        "    return recommendations\n",
        "\n",
        "# Example usage\n",
        "movie_to_search = \"Inception\"\n",
        "recommended_movies = recommend_movie(movie_to_search, movies, similarity_matrix)\n",
        "print(f\"Movies similar to '{movie_to_search}': {recommended_movies}\")"
      ]
    }
  ]
}