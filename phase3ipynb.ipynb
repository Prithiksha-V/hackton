{
  "nbformat": 4,
  "nbformat_minor": 0,
  "metadata": {
    "colab": {
      "provenance": [],
      "authorship_tag": "ABX9TyPX6HBT/t5kVSsy7O2bngrh",
      "include_colab_link": true
    },
    "kernelspec": {
      "name": "python3",
      "display_name": "Python 3"
    },
    "language_info": {
      "name": "python"
    }
  },
  "cells": [
    {
      "cell_type": "markdown",
      "metadata": {
        "id": "view-in-github",
        "colab_type": "text"
      },
      "source": [
        "<a href=\"https://colab.research.google.com/github/Prithiksha-V/hackton/blob/main/phase3ipynb.ipynb\" target=\"_parent\"><img src=\"https://colab.research.google.com/assets/colab-badge.svg\" alt=\"Open In Colab\"/></a>"
      ]
    },
    {
      "cell_type": "code",
      "source": [
        "# Install dependencies\n",
        "!pip install pyngrok\n",
        "!pip install flask pandas scikit-learn\n",
        "\n",
        "# Upload your CSV\n",
        "from google.colab import files\n",
        "uploaded = files.upload()\n",
        "\n",
        "# Load CSV\n",
        "import io\n",
        "import pandas as pd\n",
        "filename = list(uploaded.keys())[0]\n",
        "data = pd.read_csv(io.BytesIO(uploaded[filename]))\n",
        "\n",
        "# Train model\n",
        "import numpy as np\n",
        "from sklearn.model_selection import train_test_split\n",
        "from sklearn.ensemble import GradientBoostingRegressor\n",
        "\n",
        "X = data[['sqft', 'bedrooms', 'bathrooms']]\n",
        "y = data['price']\n",
        "X_train, X_test, y_train, y_test = train_test_split(X, y, test_size=0.2, random_state=42)\n",
        "\n",
        "model = GradientBoostingRegressor(n_estimators=100, learning_rate=0.1, max_depth=3, random_state=42)\n",
        "model.fit(X_train, y_train)\n",
        "\n",
        "# Set up Flask app\n",
        "from flask import Flask, request, render_template_string\n",
        "\n",
        "app = Flask(__name__)\n",
        "\n",
        "html = '''\n",
        "<!DOCTYPE html>\n",
        "<html>\n",
        "<head>\n",
        "    <title>House Price Predictor</title>\n",
        "    <style>\n",
        "        body { font-family: Arial; text-align: center; }\n",
        "        form { margin: auto; width: 300px; }\n",
        "        input, button { width: 100%; padding: 10px; margin: 5px; }\n",
        "        button { background: green; color: white; border: none; }\n",
        "    </style>\n",
        "</head>\n",
        "<body>\n",
        "    <h2>House Price Predictor</h2>\n",
        "    <form method=\"post\">\n",
        "        <input name=\"sqft\" type=\"number\" step=\"any\" placeholder=\"Square Feet\" required>\n",
        "        <input name=\"bedrooms\" type=\"number\" placeholder=\"Bedrooms\" required>\n",
        "        <input name=\"bathrooms\" type=\"number\" placeholder=\"Bathrooms\" required>\n",
        "        <button type=\"submit\">Predict Price</button>\n",
        "    </form>\n",
        "    {% if price %}\n",
        "        <h3>Estimated Price: ₹{{ price }}</h3>\n",
        "    {% endif %}\n",
        "</body>\n",
        "</html>\n",
        "'''\n",
        "\n",
        "@app.route('/', methods=['GET', 'POST'])\n",
        "def home():\n",
        "    price = None\n",
        "    if request.method == 'POST':\n",
        "        sqft = float(request.form['sqft'])\n",
        "        bedrooms = int(request.form['bedrooms'])\n",
        "        bathrooms = int(request.form['bathrooms'])\n",
        "        features = np.array([[sqft, bedrooms, bathrooms]])\n",
        "        price = round(model.predict(features)[0], 2)\n",
        "    return render_template_string(html, price=price)\n",
        "\n",
        "# Run Flask with pyngrok\n",
        "from pyngrok import ngrok\n",
        "\n",
        "port = 5000\n",
        "public_url = ngrok.connect(port)\n",
        "print(f\"App is live at: {public_url}\")\n",
        "\n",
        "app.run(port=port)\n"
      ],
      "metadata": {
        "id": "TY2oOBJcOi6I"
      },
      "execution_count": null,
      "outputs": []
    }
  ]
}